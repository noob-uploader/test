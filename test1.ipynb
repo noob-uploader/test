{
 "cells": [
  {
   "cell_type": "code",
   "execution_count": 23,
   "id": "9a31d0a9",
   "metadata": {},
   "outputs": [
    {
     "data": {
      "text/plain": [
       "3"
      ]
     },
     "execution_count": 23,
     "metadata": {},
     "output_type": "execute_result"
    }
   ],
   "source": [
    "str1='hai.how are yoi'\n",
    "str1.index('.')"
   ]
  },
  {
   "cell_type": "code",
   "execution_count": 15,
   "id": "62a6914d",
   "metadata": {},
   "outputs": [
    {
     "data": {
      "text/plain": [
       "14"
      ]
     },
     "execution_count": 15,
     "metadata": {},
     "output_type": "execute_result"
    }
   ],
   "source": [
    "str1.f'i', str1.index('i')+1)"
   ]
  },
  {
   "cell_type": "code",
   "execution_count": 51,
   "id": "dfdb1e6d",
   "metadata": {},
   "outputs": [
    {
     "name": "stdout",
     "output_type": "stream",
     "text": [
      "First name :  python\n",
      "Second name:  .anaconda\n",
      "Third name :  aconda@nareshit.com\n"
     ]
    }
   ],
   "source": [
    "str2='python.anaconda@nareshit.com'\n",
    "s=str2[0:str2.find('.')]\n",
    "print(\"First name : \", s)\n",
    "s1=str2[len(s):str2.find('@')]\n",
    "print(\"Second name: \", s1)\n",
    "s2=str2[len(s1st):28]\n",
    "print(\"Third name : \",s2)"
   ]
  },
  {
   "cell_type": "code",
   "execution_count": 26,
   "id": "4e2a166c",
   "metadata": {},
   "outputs": [
    {
     "data": {
      "text/plain": [
       "'python'"
      ]
     },
     "execution_count": 26,
     "metadata": {},
     "output_type": "execute_result"
    }
   ],
   "source": [
    "st=[0:str2.find('.')]"
   ]
  },
  {
   "cell_type": "code",
   "execution_count": 3,
   "id": "17d6f226",
   "metadata": {},
   "outputs": [
    {
     "name": "stdout",
     "output_type": "stream",
     "text": [
      "3\n",
      "1489\n"
     ]
    }
   ],
   "source": [
    "str3='3.1489'\n",
    "n1=str3[:str3.index('.')]\n",
    "print(n1)\n",
    "n2=str3[len(n1)+1:]\n",
    "print(n2)"
   ]
  },
  {
   "cell_type": "code",
   "execution_count": 6,
   "id": "c6c05b57",
   "metadata": {},
   "outputs": [
    {
     "name": "stdout",
     "output_type": "stream",
     "text": [
      "[34, 4, 78, 67, 'sf']\n"
     ]
    }
   ],
   "source": [
    "ds=[3,7,34,3,4,34,78,4,67,'sd','sf','rt']\n",
    "print(ds[2:13:2])"
   ]
  },
  {
   "cell_type": "code",
   "execution_count": 8,
   "id": "f10697c8",
   "metadata": {},
   "outputs": [
    {
     "data": {
      "text/plain": [
       "[1, 4, 9, 25, 36, 49]"
      ]
     },
     "execution_count": 8,
     "metadata": {},
     "output_type": "execute_result"
    }
   ],
   "source": [
    "list1=[1,2,3,5,6,7]\n",
    "output=[]\n",
    "for i in list1:\n",
    "    output.append(i*i)\n",
    "output"
   ]
  },
  {
   "cell_type": "code",
   "execution_count": 9,
   "id": "5010b43a",
   "metadata": {},
   "outputs": [
    {
     "name": "stdout",
     "output_type": "stream",
     "text": [
      "Hyd\n",
      "Bengaluru\n",
      "Delhi\n"
     ]
    }
   ],
   "source": [
    "list2=['hyd', 'bengaluru', 'delhi']\n",
    "output=[]\n",
    "for i in list2:\n",
    "    print(i.capitalize())"
   ]
  },
  {
   "cell_type": "code",
   "execution_count": 18,
   "id": "bf8739b7",
   "metadata": {},
   "outputs": [
    {
     "data": {
      "text/plain": [
       "['H#d', 'Be#ng', 'Delhi']"
      ]
     },
     "execution_count": 18,
     "metadata": {},
     "output_type": "execute_result"
    }
   ],
   "source": [
    "list3=['h#d', 'be#ng', 'delhi']\n",
    "output=[i.capitalize() for i in list3]\n",
    "output"
   ]
  },
  {
   "cell_type": "code",
   "execution_count": 2,
   "id": "453c9be8",
   "metadata": {},
   "outputs": [
    {
     "data": {
      "text/plain": [
       "[1, 4, 9, 25, 36, 49]"
      ]
     },
     "execution_count": 2,
     "metadata": {},
     "output_type": "execute_result"
    }
   ],
   "source": [
    "list1=[1,2,3,5,6,7]\n",
    "output=[i*i for i in list1]\n",
    "output"
   ]
  },
  {
   "cell_type": "code",
   "execution_count": null,
   "id": "bc27fae5",
   "metadata": {},
   "outputs": [],
   "source": []
  },
  {
   "cell_type": "code",
   "execution_count": null,
   "id": "5e5cfddf",
   "metadata": {},
   "outputs": [],
   "source": []
  },
  {
   "cell_type": "code",
   "execution_count": 43,
   "id": "84a7c031",
   "metadata": {},
   "outputs": [
    {
     "data": {
      "text/plain": [
       "[0, 1, 2, 3, 4, 5, 6, 7, 8, 9, 10, 11, 12, 13, 14, 15, 16, 17, 18, 19]"
      ]
     },
     "execution_count": 43,
     "metadata": {},
     "output_type": "execute_result"
    }
   ],
   "source": [
    "list3=\n",
    "out=[i for i in range(0,20)]\n",
    "out"
   ]
  },
  {
   "cell_type": "code",
   "execution_count": 41,
   "id": "981bd90a",
   "metadata": {},
   "outputs": [
    {
     "data": {
      "text/plain": [
       "[1, 2, 3, 4, 5, 6, 7, 8, 9, 10, 11, 12, 13, 14, 15, 16, 17, 18, 19, 20]"
      ]
     },
     "execution_count": 41,
     "metadata": {},
     "output_type": "execute_result"
    }
   ],
   "source": [
    "num=[]\n",
    "for i in range(1,21):\n",
    "    num.append(i)\n",
    "num"
   ]
  },
  {
   "cell_type": "code",
   "execution_count": 49,
   "id": "2c2c4a35",
   "metadata": {},
   "outputs": [
    {
     "data": {
      "text/plain": [
       "['ac', 'a']"
      ]
     },
     "execution_count": 49,
     "metadata": {},
     "output_type": "execute_result"
    }
   ],
   "source": [
    "list4=['abcd', 'abc', 'ac', 'a']\n",
    "j=[i for i in list4 if len(i)<3]\n",
    "j"
   ]
  },
  {
   "cell_type": "code",
   "execution_count": 59,
   "id": "63ed6853",
   "metadata": {},
   "outputs": [
    {
     "data": {
      "text/plain": [
       "['Even : 12', 'Odd : 3', 'Even : 32', 'Even : 32', 'Even : 54', 'Even : 4']"
      ]
     },
     "execution_count": 59,
     "metadata": {},
     "output_type": "execute_result"
    }
   ],
   "source": [
    "lis7=[12,3,32,32,54,4]\n",
    "ans=[]\n",
    "for i in lis7:\n",
    "    if i%2==0:\n",
    "        ans.append(\"Even : {}\".format(i))\n",
    "    else:\n",
    "        ans.append(\"Odd : {}\".format(i))\n",
    "ans"
   ]
  },
  {
   "cell_type": "code",
   "execution_count": 62,
   "id": "cb49072a",
   "metadata": {},
   "outputs": [
    {
     "data": {
      "text/plain": [
       "['Even:12', 'Odd:3', 'Even:32', 'Even:32', 'Even:54', 'Even:4']"
      ]
     },
     "execution_count": 62,
     "metadata": {},
     "output_type": "execute_result"
    }
   ],
   "source": [
    "[\"Even:{}\".format(i) if i%2==0 else \"Odd:{}\".format(i) for i in lis7]"
   ]
  },
  {
   "cell_type": "code",
   "execution_count": null,
   "id": "4ad8deb1",
   "metadata": {},
   "outputs": [],
   "source": []
  },
  {
   "cell_type": "code",
   "execution_count": null,
   "id": "9a6a4b8c",
   "metadata": {},
   "outputs": [],
   "source": []
  },
  {
   "cell_type": "markdown",
   "id": "880486a1",
   "metadata": {
    "collapsed": true
   },
   "source": [
    "$Extend$\n"
   ]
  },
  {
   "cell_type": "code",
   "execution_count": 70,
   "id": "43dbfaf8",
   "metadata": {},
   "outputs": [
    {
     "name": "stdout",
     "output_type": "stream",
     "text": [
      "None\n"
     ]
    },
    {
     "ename": "TypeError",
     "evalue": "'int' object is not callable",
     "output_type": "error",
     "traceback": [
      "\u001b[0;31m---------------------------------------------------------------------------\u001b[0m",
      "\u001b[0;31mTypeError\u001b[0m                                 Traceback (most recent call last)",
      "Cell \u001b[0;32mIn[70], line 4\u001b[0m\n\u001b[1;32m      2\u001b[0m list2\u001b[38;5;241m=\u001b[39m[\u001b[38;5;241m12\u001b[39m,\u001b[38;5;241m3\u001b[39m,\u001b[38;5;241m54\u001b[39m,\u001b[38;5;241m5\u001b[39m]\n\u001b[1;32m      3\u001b[0m \u001b[38;5;28mprint\u001b[39m(list1\u001b[38;5;241m.\u001b[39mextend(list2))\n\u001b[0;32m----> 4\u001b[0m \u001b[43mn\u001b[49m\u001b[43m(\u001b[49m\u001b[43m)\u001b[49m\n\u001b[1;32m      5\u001b[0m list1\u001b[38;5;241m+\u001b[39mlist2\n",
      "\u001b[0;31mTypeError\u001b[0m: 'int' object is not callable"
     ]
    }
   ],
   "source": [
    "list1=['a', 'b', 'c']\n",
    "list2=[12,3,54,5]\n",
    "print(list1.extend(list2))\n",
    "/n\n",
    "list1+list2"
   ]
  },
  {
   "cell_type": "code",
   "execution_count": 71,
   "id": "a29dbce2",
   "metadata": {},
   "outputs": [
    {
     "data": {
      "text/plain": [
       "'a'"
      ]
     },
     "execution_count": 71,
     "metadata": {},
     "output_type": "execute_result"
    }
   ],
   "source": [
    "p=[3,'a']\n",
    "p.pop(1)"
   ]
  },
  {
   "cell_type": "code",
   "execution_count": 72,
   "id": "58d878c5",
   "metadata": {},
   "outputs": [
    {
     "data": {
      "text/plain": [
       "[3]"
      ]
     },
     "execution_count": 72,
     "metadata": {},
     "output_type": "execute_result"
    }
   ],
   "source": [
    "p"
   ]
  },
  {
   "cell_type": "code",
   "execution_count": null,
   "id": "89f50b6d",
   "metadata": {},
   "outputs": [],
   "source": []
  }
 ],
 "metadata": {
  "kernelspec": {
   "display_name": "Python 3 (ipykernel)",
   "language": "python",
   "name": "python3"
  },
  "language_info": {
   "codemirror_mode": {
    "name": "ipython",
    "version": 3
   },
   "file_extension": ".py",
   "mimetype": "text/x-python",
   "name": "python",
   "nbconvert_exporter": "python",
   "pygments_lexer": "ipython3",
   "version": "3.12.3"
  }
 },
 "nbformat": 4,
 "nbformat_minor": 5
}
