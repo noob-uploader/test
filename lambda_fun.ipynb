{
 "cells": [
  {
   "cell_type": "code",
   "execution_count": 1,
   "id": "83859e5c",
   "metadata": {},
   "outputs": [
    {
     "data": {
      "text/plain": [
       "30"
      ]
     },
     "execution_count": 1,
     "metadata": {},
     "output_type": "execute_result"
    }
   ],
   "source": [
    "add=lambda x:x+10\n",
    "add(20)"
   ]
  },
  {
   "cell_type": "code",
   "execution_count": 4,
   "id": "6ad9baab",
   "metadata": {},
   "outputs": [
    {
     "data": {
      "text/plain": [
       "8"
      ]
     },
     "execution_count": 4,
     "metadata": {},
     "output_type": "execute_result"
    }
   ],
   "source": [
    "sq=lambda x:x*x*x\n",
    "sq(2)"
   ]
  },
  {
   "cell_type": "code",
   "execution_count": 5,
   "id": "0cc0b7e6",
   "metadata": {},
   "outputs": [
    {
     "data": {
      "text/plain": [
       "27"
      ]
     },
     "execution_count": 5,
     "metadata": {},
     "output_type": "execute_result"
    }
   ],
   "source": [
    "add=lambda a,b:a+b\n",
    "add(23,4)"
   ]
  },
  {
   "cell_type": "code",
   "execution_count": 6,
   "id": "1ca5fa9e",
   "metadata": {},
   "outputs": [
    {
     "data": {
      "text/plain": [
       "3.0"
      ]
     },
     "execution_count": 6,
     "metadata": {},
     "output_type": "execute_result"
    }
   ],
   "source": [
    "### avg of three num\n",
    "avg= lambda x,y,z:(x+y+z)/2\n",
    "avg(2,2,2)"
   ]
  },
  {
   "cell_type": "code",
   "execution_count": 7,
   "id": "6590ab87",
   "metadata": {},
   "outputs": [
    {
     "data": {
      "text/plain": [
       "34"
      ]
     },
     "execution_count": 7,
     "metadata": {},
     "output_type": "execute_result"
    }
   ],
   "source": [
    "def greater(n1,n2):\n",
    "    if n1>n2:\n",
    "        return(n1)\n",
    "    else:\n",
    "        return(n2)\n",
    "greater(23,34)"
   ]
  },
  {
   "cell_type": "code",
   "execution_count": 8,
   "id": "412ee53f",
   "metadata": {},
   "outputs": [],
   "source": [
    "li=[]\n",
    "def greater(n1,n2):\n",
    "    if n1>n2:\n",
    "        li.append(n1)\n",
    "    else:\n",
    "        li.append(n2)\n",
    "greater(23,432)"
   ]
  },
  {
   "cell_type": "code",
   "execution_count": 9,
   "id": "98855c20",
   "metadata": {},
   "outputs": [
    {
     "data": {
      "text/plain": [
       "[432]"
      ]
     },
     "execution_count": 9,
     "metadata": {},
     "output_type": "execute_result"
    }
   ],
   "source": [
    "li"
   ]
  },
  {
   "cell_type": "code",
   "execution_count": null,
   "id": "815efe15",
   "metadata": {},
   "outputs": [],
   "source": []
  },
  {
   "cell_type": "code",
   "execution_count": 13,
   "id": "8209df56",
   "metadata": {},
   "outputs": [
    {
     "data": {
      "text/plain": [
       "43"
      ]
     },
     "execution_count": 13,
     "metadata": {},
     "output_type": "execute_result"
    }
   ],
   "source": [
    "avg=lambda a,b: (a if a>b else b)\n",
    "avg(23,43)"
   ]
  },
  {
   "cell_type": "code",
   "execution_count": 1,
   "id": "63f4e433",
   "metadata": {},
   "outputs": [],
   "source": [
    "a=lambda a,b: (a if a>b else b)"
   ]
  },
  {
   "cell_type": "code",
   "execution_count": null,
   "id": "3069e65f",
   "metadata": {},
   "outputs": [],
   "source": []
  },
  {
   "cell_type": "code",
   "execution_count": 35,
   "id": "094b9b82",
   "metadata": {},
   "outputs": [
    {
     "name": "stdout",
     "output_type": "stream",
     "text": [
      "['Hyd', 'Mumbai', 'Chennai']\n"
     ]
    }
   ],
   "source": [
    "list1=['hyd', 'mumbai', 'chennai']\n",
    "list2=[]\n",
    "for i in list1:\n",
    "    list2.append(i.capitalize())\n",
    "print(list2)    "
   ]
  },
  {
   "cell_type": "code",
   "execution_count": 4,
   "id": "0f3762ea",
   "metadata": {},
   "outputs": [
    {
     "data": {
      "text/plain": [
       "['Hyd', 'Mumbai', 'Chennai']"
      ]
     },
     "execution_count": 4,
     "metadata": {},
     "output_type": "execute_result"
    }
   ],
   "source": [
    "[i.capitalize() for i in list1]"
   ]
  },
  {
   "cell_type": "code",
   "execution_count": 22,
   "id": "e505354a",
   "metadata": {},
   "outputs": [
    {
     "data": {
      "text/plain": [
       "['Hyd', 'Mumbai', 'Chennai']"
      ]
     },
     "execution_count": 22,
     "metadata": {},
     "output_type": "execute_result"
    }
   ],
   "source": [
    "list1=['hyd', 'mumbai', 'chennai']\n",
    "lambda i:i.capitalize(), list1\n",
    "#map(lambda i:i.capitalize(), list1)\n",
    "list(map(lambda i:i.capitalize(),list1))"
   ]
  },
  {
   "cell_type": "code",
   "execution_count": 36,
   "id": "cd93a010",
   "metadata": {},
   "outputs": [
    {
     "name": "stdout",
     "output_type": "stream",
     "text": [
      "1\n",
      "4\n",
      "9\n",
      "16\n",
      "25\n"
     ]
    }
   ],
   "source": [
    "lis=[1,2,3,4,5]\n",
    "for i in map(lambda i:i*i, lis):\n",
    "    print(i)"
   ]
  },
  {
   "cell_type": "code",
   "execution_count": null,
   "id": "ece7d1d8",
   "metadata": {},
   "outputs": [],
   "source": [
    "list1=[1,2,3~]"
   ]
  },
  {
   "cell_type": "code",
   "execution_count": null,
   "id": "620372f7",
   "metadata": {},
   "outputs": [],
   "source": []
  }
 ],
 "metadata": {
  "kernelspec": {
   "display_name": "Python 3 (ipykernel)",
   "language": "python",
   "name": "python3"
  },
  "language_info": {
   "codemirror_mode": {
    "name": "ipython",
    "version": 3
   },
   "file_extension": ".py",
   "mimetype": "text/x-python",
   "name": "python",
   "nbconvert_exporter": "python",
   "pygments_lexer": "ipython3",
   "version": "3.12.3"
  }
 },
 "nbformat": 4,
 "nbformat_minor": 5
}
