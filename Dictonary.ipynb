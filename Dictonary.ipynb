{
 "cells": [
  {
   "cell_type": "markdown",
   "id": "2ec71cf9",
   "metadata": {},
   "source": [
    "$Dictonary$"
   ]
  },
  {
   "cell_type": "code",
   "execution_count": 2,
   "id": "d3cf4974",
   "metadata": {},
   "outputs": [
    {
     "name": "stdout",
     "output_type": "stream",
     "text": [
      "Ram has age 25 \n",
      "Rahennm has age 30 \n",
      "Robert has age 40 \n"
     ]
    }
   ],
   "source": [
    "l1=['Ram', 'Rahennm', 'Robert']\n",
    "l2=[25,30,40]\n",
    "for i,j in zip(l1,l2):\n",
    "    print(\"{} has age {} \".format(i,j))"
   ]
  },
  {
   "cell_type": "code",
   "execution_count": 8,
   "id": "167dffc0",
   "metadata": {},
   "outputs": [
    {
     "data": {
      "text/plain": [
       "(1, 2)"
      ]
     },
     "execution_count": 8,
     "metadata": {},
     "output_type": "execute_result"
    }
   ],
   "source": [
    "a,b=[2,3]\n",
    "c,d=(32,43)\n",
    "a=1,2\n",
    "a"
   ]
  },
  {
   "cell_type": "code",
   "execution_count": 12,
   "id": "83520730",
   "metadata": {},
   "outputs": [
    {
     "data": {
      "text/plain": [
       "{'A': 34}"
      ]
     },
     "execution_count": 12,
     "metadata": {},
     "output_type": "execute_result"
    }
   ],
   "source": [
    "d2={'A':34,'A':34}\n",
    "d2"
   ]
  },
  {
   "cell_type": "code",
   "execution_count": 13,
   "id": "d60dc9cb",
   "metadata": {},
   "outputs": [
    {
     "data": {
      "text/plain": [
       "dict"
      ]
     },
     "execution_count": 13,
     "metadata": {},
     "output_type": "execute_result"
    }
   ],
   "source": [
    "type(d2)"
   ]
  },
  {
   "cell_type": "code",
   "execution_count": 14,
   "id": "4ae7a5f5",
   "metadata": {},
   "outputs": [
    {
     "name": "stdout",
     "output_type": "stream",
     "text": [
      "{1, 2, 3, 4, 5}\n",
      "{3}\n",
      "{1, 2}\n",
      "{1, 2, 4, 5}\n"
     ]
    }
   ],
   "source": [
    "set1 = {1, 2, 3}\n",
    "set2 = {3, 4, 5}\n",
    "print(set1 | set2)  # Union: {1, 2, 3, 4, 5}\n",
    "print(set1 & set2)  # Intersection: {3}\n",
    "print(set1 - set2)  # Difference: {1, 2}\n",
    "print(set1 ^ set2)"
   ]
  },
  {
   "cell_type": "code",
   "execution_count": 32,
   "id": "f6f7572c",
   "metadata": {},
   "outputs": [
    {
     "data": {
      "text/plain": [
       "300"
      ]
     },
     "execution_count": 32,
     "metadata": {},
     "output_type": "execute_result"
    }
   ],
   "source": [
    "df={100:'3',200:'4'}\n",
    "(df)"
   ]
  },
  {
   "cell_type": "markdown",
   "id": "03558eed",
   "metadata": {},
   "source": [
    "$LOOP$"
   ]
  },
  {
   "cell_type": "code",
   "execution_count": 39,
   "id": "dc9a11a2",
   "metadata": {},
   "outputs": [
    {
     "name": "stdout",
     "output_type": "stream",
     "text": [
      "3\n"
     ]
    }
   ],
   "source": [
    "d1={'Ram': 25, 'Raheem': 30, 'Robert':40}\n",
    "print(len(d1))"
   ]
  },
  {
   "cell_type": "code",
   "execution_count": 36,
   "id": "14a5b298",
   "metadata": {},
   "outputs": [
    {
     "name": "stdout",
     "output_type": "stream",
     "text": [
      "Ram\n",
      "Raheem\n",
      "Robert\n"
     ]
    }
   ],
   "source": [
    "for i in d1:\n",
    "    print(i)"
   ]
  },
  {
   "cell_type": "code",
   "execution_count": 38,
   "id": "6101e575",
   "metadata": {},
   "outputs": [
    {
     "name": "stdout",
     "output_type": "stream",
     "text": [
      "Ram 25\n",
      "Raheem 30\n",
      "Robert 40\n"
     ]
    }
   ],
   "source": [
    "for key in d1:\n",
    "    print(key,d1[key])"
   ]
  },
  {
   "cell_type": "code",
   "execution_count": 1,
   "id": "a4e66521",
   "metadata": {},
   "outputs": [],
   "source": [
    "names=['Ram', 'Raheem', 'Robbert']\n",
    "age=[23,45,65]"
   ]
  },
  {
   "cell_type": "code",
   "execution_count": 8,
   "id": "d49a7801",
   "metadata": {},
   "outputs": [
    {
     "data": {
      "text/plain": [
       "{'Ram': 23, 'Raheem': 45, 'Robbert': 65}"
      ]
     },
     "execution_count": 8,
     "metadata": {},
     "output_type": "execute_result"
    }
   ],
   "source": [
    "dict1={}\n",
    "for i in range(len(names)):\n",
    "    dict1[names[i]]:age[i]\n",
    "    \n",
    "dict1={names[i]:age[i] for i in range(len(names))}\n",
    "dict1"
   ]
  },
  {
   "cell_type": "code",
   "execution_count": 9,
   "id": "e6c06f8f",
   "metadata": {},
   "outputs": [
    {
     "name": "stdout",
     "output_type": "stream",
     "text": [
      "Ram 23\n",
      "Raheem 45\n",
      "Robbert 65\n"
     ]
    }
   ],
   "source": [
    "for names,age in zip(names,age):\n",
    "    print(names,age)"
   ]
  },
  {
   "cell_type": "code",
   "execution_count": 12,
   "id": "4d5464ca",
   "metadata": {},
   "outputs": [
    {
     "name": "stdout",
     "output_type": "stream",
     "text": [
      "('23', '324')\n"
     ]
    }
   ],
   "source": [
    "from random import randint\n",
    "e1={}\n",
    "{'even':[20,22], 'odd':[19,21,23]}\n",
    "evL='23','324'\n",
    "od='3','5'"
   ]
  },
  {
   "cell_type": "code",
   "execution_count": 13,
   "id": "ac795d87",
   "metadata": {},
   "outputs": [
    {
     "name": "stdout",
     "output_type": "stream",
     "text": [
      "Enter the number of random numbers to generate: 5\n",
      "{'even': [58], 'odd': [5, 19, 99, 67]}\n"
     ]
    }
   ],
   "source": [
    "import random\n",
    "\n",
    "# Step 1: Take an empty dictionary\n",
    "even_odd_dict = {}\n",
    "\n",
    "# Step 2: Create empty lists for even and odd numbers\n",
    "even_list = []\n",
    "odd_list = []\n",
    "\n",
    "# Step 3: Get the number of random numbers to generate\n",
    "num_numbers = int(input(\"Enter the number of random numbers to generate: \"))\n",
    "\n",
    "# Step 4: Generate random numbers and add them to their respective lists\n",
    "for i in range(num_numbers):\n",
    "  num = random.randint(1, 100)  # Change the range as needed\n",
    "  if num % 2 == 0:\n",
    "    even_list.append(num)\n",
    "  else:\n",
    "    odd_list.append(num)\n",
    "\n",
    "# Step 5: Add the even and odd lists to the dictionary\n",
    "even_odd_dict[\"even\"] = even_list\n",
    "even_odd_dict[\"odd\"] = odd_list\n",
    "\n",
    "# Step 6: Print the dictionary\n",
    "print(even_odd_dict)\n"
   ]
  },
  {
   "cell_type": "code",
   "execution_count": 16,
   "id": "ef36e2ea",
   "metadata": {},
   "outputs": [
    {
     "name": "stdout",
     "output_type": "stream",
     "text": [
      "Enter the range of random number : 4\n",
      "{'Even': [4, 4, 4], 'odd': [4]}\n"
     ]
    }
   ],
   "source": [
    "import random\n",
    "\n",
    "ev_odd={}\n",
    "ev_list=[]\n",
    "odd_list=[]\n",
    "num=int(input(\"Enter the range of random number : \"))\n",
    "        \n",
    "for i in range(num):\n",
    "        n1=random.randint(1,100)\n",
    "        if n1%2==0:\n",
    "            ev_list.append(num)\n",
    "        else:\n",
    "            odd_list.append(num)\n",
    "ev_odd['Even']=ev_list\n",
    "ev_odd['odd']=odd_list\n",
    "print(ev_odd)"
   ]
  },
  {
   "cell_type": "code",
   "execution_count": 17,
   "id": "9eeee4ce",
   "metadata": {},
   "outputs": [
    {
     "data": {
      "text/plain": [
       "'/home/bane/py'"
      ]
     },
     "execution_count": 17,
     "metadata": {},
     "output_type": "execute_result"
    }
   ],
   "source": [
    "import os\n",
    "os.getcwd()"
   ]
  },
  {
   "cell_type": "code",
   "execution_count": 31,
   "id": "946ad863",
   "metadata": {},
   "outputs": [
    {
     "name": "stdout",
     "output_type": "stream",
     "text": [
      "[23, 30, 40]\n"
     ]
    },
    {
     "data": {
      "text/plain": [
       "['Ram', 'Raheem', 'Robert']"
      ]
     },
     "execution_count": 31,
     "metadata": {},
     "output_type": "execute_result"
    }
   ],
   "source": [
    "names={'Ram': 23, 'Raheem':30,'Robert':40}\n",
    "keys=list(names.values())\n",
    "#al=list(age.keys())\n",
    "print(keys)\n",
    "val=list(names.keys())\n",
    "val"
   ]
  },
  {
   "cell_type": "code",
   "execution_count": 40,
   "id": "3269589e",
   "metadata": {},
   "outputs": [
    {
     "data": {
      "text/plain": [
       "{'R': 'Ram', 'o': 'Raheem', 'b': 'Robert'}"
      ]
     },
     "execution_count": 40,
     "metadata": {},
     "output_type": "execute_result"
    }
   ],
   "source": [
    "{i:j for i,j in zip(keys,val)}"
   ]
  },
  {
   "cell_type": "code",
   "execution_count": 37,
   "id": "65acaff0",
   "metadata": {},
   "outputs": [
    {
     "name": "stdout",
     "output_type": "stream",
     "text": [
      "Ram 23\n",
      "Raheem 30\n",
      "Robert 40\n"
     ]
    }
   ],
   "source": [
    "for keys in names:\n",
    "    print(keys,names[keys])"
   ]
  },
  {
   "cell_type": "code",
   "execution_count": 51,
   "id": "3c4d99bc",
   "metadata": {},
   "outputs": [
    {
     "ename": "NameError",
     "evalue": "name 'values' is not defined",
     "output_type": "error",
     "traceback": [
      "\u001b[0;31m---------------------------------------------------------------------------\u001b[0m",
      "\u001b[0;31mNameError\u001b[0m                                 Traceback (most recent call last)",
      "Cell \u001b[0;32mIn[51], line 4\u001b[0m\n\u001b[1;32m      2\u001b[0m d8\u001b[38;5;241m=\u001b[39m{}\n\u001b[1;32m      3\u001b[0m \u001b[38;5;28;01mfor\u001b[39;00m i \u001b[38;5;129;01min\u001b[39;00m \u001b[38;5;28mrange\u001b[39m(\u001b[38;5;28mlen\u001b[39m(keys)):\n\u001b[0;32m----> 4\u001b[0m     d8[keys[i]]\u001b[38;5;241m=\u001b[39m\u001b[43mvalues\u001b[49m[i]\n\u001b[1;32m      6\u001b[0m d8\n",
      "\u001b[0;31mNameError\u001b[0m: name 'values' is not defined"
     ]
    }
   ],
   "source": [
    "d6={'Ram': 23, 'Rex': 30, 'Rami': 35}\n",
    "d8={}\n",
    "for i in range(len(keys)):\n",
    "    d8[keys[i]]=values[i]\n",
    "    \n",
    "d8"
   ]
  },
  {
   "cell_type": "code",
   "execution_count": 54,
   "id": "53a95c00",
   "metadata": {},
   "outputs": [
    {
     "name": "stdout",
     "output_type": "stream",
     "text": [
      "0\n",
      "1\n",
      "2\n",
      "3\n",
      "4\n",
      "5\n"
     ]
    }
   ],
   "source": [
    "s1='virat.kohli@blr.com, Rohit.sharma@mumbai.com, kl.rahul@lucknow.com'\n",
    "for i in range(len(keys)):\n",
    "    print(i)"
   ]
  },
  {
   "cell_type": "code",
   "execution_count": 55,
   "id": "f0b2a8d4",
   "metadata": {},
   "outputs": [
    {
     "data": {
      "text/plain": [
       "str"
      ]
     },
     "execution_count": 55,
     "metadata": {},
     "output_type": "execute_result"
    }
   ],
   "source": [
    "type(s1)"
   ]
  },
  {
   "cell_type": "code",
   "execution_count": 65,
   "id": "3a58712b",
   "metadata": {},
   "outputs": [
    {
     "data": {
      "text/plain": [
       "{\"'can' repeat\": 6, \"'you' repeat\": 2, \"'canner' repeat\": 2}"
      ]
     },
     "execution_count": 65,
     "metadata": {},
     "output_type": "execute_result"
    }
   ],
   "source": [
    "str1='can can you canner can you able to can canner'\n",
    "ca=str1.count('can')\n",
    "yo=str1.count('you')\n",
    "canne=str1.count('canner')\n",
    "y=str1.count('you')\n",
    "d1={}\n",
    "d1[\"'can' repeat\"]=ca\n",
    "d1[\"'you' repeat\"]=yo\n",
    "d1[\"'canner' repeat\"]=canne\n",
    "d1[\"'you' repeat\"]=y\n",
    "d1"
   ]
  },
  {
   "cell_type": "code",
   "execution_count": 70,
   "id": "e36eaf56",
   "metadata": {},
   "outputs": [
    {
     "data": {
      "text/plain": [
       "{'a': 70, 'b': 130, 'c': 240}"
      ]
     },
     "execution_count": 70,
     "metadata": {},
     "output_type": "execute_result"
    }
   ],
   "source": [
    "d1={'a': 50, 'b':30, 'c':40}\n",
    "d2={'a': 20, 'b':100, 'c':200}\n",
    "d3={}\n",
    "for i,j in zip(d1,d2):\n",
    "        d1[i]+=d2[i]\n",
    "d1"
   ]
  },
  {
   "cell_type": "code",
   "execution_count": 71,
   "id": "dbd361e1",
   "metadata": {},
   "outputs": [
    {
     "data": {
      "text/plain": [
       "{'a': 70, 'b': 130, 'c': 240}"
      ]
     },
     "execution_count": 71,
     "metadata": {},
     "output_type": "execute_result"
    }
   ],
   "source": [
    "d1={'a': 50, 'b':30, 'c':40}\n",
    "d2={'a': 20, 'b':100, 'c':200}\n",
    "d3={}\n",
    "if len(d1)==len(d2):\n",
    "    for i in d1:\n",
    "        d3[i]=d1[i]+d2[i] #d3['a']=d2['a']+d1['a']\n",
    "d3"
   ]
  },
  {
   "cell_type": "code",
   "execution_count": 85,
   "id": "faea0122",
   "metadata": {},
   "outputs": [
    {
     "name": "stdout",
     "output_type": "stream",
     "text": [
      "{}\n",
      "{'a': 34, 'b': 31, 'c': 44}\n"
     ]
    }
   ],
   "source": [
    "d1={'a':34, 'b':31, 'c':44}\n",
    "d2=d1.copy()\n",
    "d1.clear()\n",
    "print(d1)\n",
    "print(d2)"
   ]
  },
  {
   "cell_type": "code",
   "execution_count": 77,
   "id": "59407f0f",
   "metadata": {},
   "outputs": [
    {
     "data": {
      "text/plain": [
       "34"
      ]
     },
     "execution_count": 77,
     "metadata": {},
     "output_type": "execute_result"
    }
   ],
   "source": [
    "d2.pop('a')\n"
   ]
  },
  {
   "cell_type": "code",
   "execution_count": 79,
   "id": "e78740c7",
   "metadata": {},
   "outputs": [
    {
     "data": {
      "text/plain": [
       "('c', 44)"
      ]
     },
     "execution_count": 79,
     "metadata": {},
     "output_type": "execute_result"
    }
   ],
   "source": [
    "d2.popitem()"
   ]
  },
  {
   "cell_type": "code",
   "execution_count": 80,
   "id": "fa8b2308",
   "metadata": {},
   "outputs": [
    {
     "data": {
      "text/plain": [
       "{'b': 31}"
      ]
     },
     "execution_count": 80,
     "metadata": {},
     "output_type": "execute_result"
    }
   ],
   "source": [
    "d2"
   ]
  },
  {
   "cell_type": "code",
   "execution_count": 87,
   "id": "40a1d555",
   "metadata": {},
   "outputs": [],
   "source": [
    "del d2"
   ]
  },
  {
   "cell_type": "code",
   "execution_count": 84,
   "id": "7528b800",
   "metadata": {},
   "outputs": [
    {
     "ename": "NameError",
     "evalue": "name 'keys' is not defined",
     "output_type": "error",
     "traceback": [
      "\u001b[0;31m---------------------------------------------------------------------------\u001b[0m",
      "\u001b[0;31mNameError\u001b[0m                                 Traceback (most recent call last)",
      "Cell \u001b[0;32mIn[84], line 1\u001b[0m\n\u001b[0;32m----> 1\u001b[0m \u001b[38;5;28;01mdel\u001b[39;00m \u001b[43mkeys\u001b[49m\n\u001b[1;32m      2\u001b[0m keys\n",
      "\u001b[0;31mNameError\u001b[0m: name 'keys' is not defined"
     ]
    }
   ],
   "source": [
    "del keys\n",
    "keys\n",
    "\n"
   ]
  },
  {
   "cell_type": "code",
   "execution_count": 88,
   "id": "4abee12d",
   "metadata": {},
   "outputs": [
    {
     "data": {
      "text/plain": [
       "{'R': None, 'a': None, 'h': None, 'e': None, 'm': None}"
      ]
     },
     "execution_count": 88,
     "metadata": {},
     "output_type": "execute_result"
    }
   ],
   "source": [
    "d2=d1.fromkeys('Raheem')\n",
    "d2 #none is for value"
   ]
  },
  {
   "cell_type": "code",
   "execution_count": 96,
   "id": "5d94e6a0",
   "metadata": {},
   "outputs": [],
   "source": [
    "d3={}.fromkeys('Raheem', 25)#d1 does'nt modify and update"
   ]
  },
  {
   "cell_type": "code",
   "execution_count": 90,
   "id": "932ed913",
   "metadata": {},
   "outputs": [
    {
     "data": {
      "text/plain": [
       "{'R': 25, 'a': 25, 'h': 25, 'e': 25, 'm': 25}"
      ]
     },
     "execution_count": 90,
     "metadata": {},
     "output_type": "execute_result"
    }
   ],
   "source": [
    "d3"
   ]
  },
  {
   "cell_type": "code",
   "execution_count": 94,
   "id": "607eedab",
   "metadata": {},
   "outputs": [
    {
     "data": {
      "text/plain": [
       "'sourav'"
      ]
     },
     "execution_count": 94,
     "metadata": {},
     "output_type": "execute_result"
    }
   ],
   "source": [
    "name=\"sourav\"\n",
    "name.capitalize()\n",
    "name"
   ]
  },
  {
   "cell_type": "code",
   "execution_count": 95,
   "id": "38d5163a",
   "metadata": {},
   "outputs": [
    {
     "data": {
      "text/plain": [
       "'sourav'"
      ]
     },
     "execution_count": 95,
     "metadata": {},
     "output_type": "execute_result"
    }
   ],
   "source": [
    "name"
   ]
  },
  {
   "cell_type": "code",
   "execution_count": 100,
   "id": "182be447",
   "metadata": {},
   "outputs": [
    {
     "data": {
      "text/plain": [
       "{'nareshit': 'Ds'}"
      ]
     },
     "execution_count": 100,
     "metadata": {},
     "output_type": "execute_result"
    }
   ],
   "source": [
    "d1={}\n",
    "d1.setdefault('nareshit', 'Ds')\n",
    "d1"
   ]
  },
  {
   "cell_type": "code",
   "execution_count": 101,
   "id": "8fdf55cc",
   "metadata": {},
   "outputs": [
    {
     "data": {
      "text/plain": [
       "{'a': 25, 'b': 34, 'c': 35, 'd': 40}"
      ]
     },
     "execution_count": 101,
     "metadata": {},
     "output_type": "execute_result"
    }
   ],
   "source": [
    "d1={'a':25, 'b':30, 'c':35}\n",
    "d2={'b':34, 'd': 40}\n",
    "d1.update(d2)\n",
    "d1"
   ]
  },
  {
   "cell_type": "code",
   "execution_count": null,
   "id": "25e6ecc4",
   "metadata": {},
   "outputs": [],
   "source": []
  }
 ],
 "metadata": {
  "kernelspec": {
   "display_name": "Python 3 (ipykernel)",
   "language": "python",
   "name": "python3"
  },
  "language_info": {
   "codemirror_mode": {
    "name": "ipython",
    "version": 3
   },
   "file_extension": ".py",
   "mimetype": "text/x-python",
   "name": "python",
   "nbconvert_exporter": "python",
   "pygments_lexer": "ipython3",
   "version": "3.12.3"
  }
 },
 "nbformat": 4,
 "nbformat_minor": 5
}
